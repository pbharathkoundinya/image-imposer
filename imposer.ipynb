import tensorflow as tf
import tensorflow_hub as hub
import matplotlib.pyplot as plt
import ipywidgets as widgets
from IPython.display import display
import os

# Load the pre-trained style transfer model
hub_model = hub.load('https://tfhub.dev/google/magenta/arbitrary-image-stylization-v1-256/2')

# Define the style transfer function
def apply_style_transfer(input_image_path, style_image_path):
    # Load and preprocess the input image
    input_image = tf.io.read_file(input_image_path)
    input_image = tf.image.decode_image(input_image, channels=3)
    input_image = tf.image.convert_image_dtype(input_image, tf.float32)[tf.newaxis, ...]

    # Load and preprocess the style image
    style_image = tf.io.read_file(style_image_path)
    style_image = tf.image.decode_image(style_image, channels=3)
    style_image = tf.image.convert_image_dtype(style_image, tf.float32)[tf.newaxis, ...]

    # Apply style transfer
    stylized_image = hub_model(tf.constant(input_image), tf.constant(style_image))[0]

    # Display the input, style, and stylized images
    plt.figure(figsize=(10, 10))
    plt.subplot(1, 3, 1)
    plt.imshow(input_image[0])
    plt.title("Input Image")

    plt.subplot(1, 3, 2)
    plt.imshow(style_image[0])
    plt.title("Style Image")

    plt.subplot(1, 3, 3)
    plt.imshow(stylized_image[0])
    plt.title("Stylized Image")

    plt.show()

# Create file upload widgets for input and style images
input_image_upload = widgets.FileUpload(description="Upload Input Image", accept='.jpg')
style_image_upload = widgets.FileUpload(description="Upload Style Image", accept='.jpg')

# Define the function to handle button click
def on_apply_button_click(b):
    input_image_data = next(iter(input_image_upload.value.values()))
    style_image_data = next(iter(style_image_upload.value.values()))

    # Save the uploaded images
    input_image_path = '/content/input_image.jpg'
    style_image_path = '/content/style_image.jpg'

    with open(input_image_path, 'wb') as f:
        f.write(input_image_data['content'])

    with open(style_image_path, 'wb') as f:
        f.write(style_image_data['content'])

    # Apply style transfer and display the result
    apply_style_transfer(input_image_path, style_image_path)

# Create and display the "Apply Style Transfer" button
apply_button = widgets.Button(description="Apply Style Transfer")
apply_button.on_click(on_apply_button_click)

# Display the widgets
display(input_image_upload)
display(style_image_upload)
display(apply_button)
